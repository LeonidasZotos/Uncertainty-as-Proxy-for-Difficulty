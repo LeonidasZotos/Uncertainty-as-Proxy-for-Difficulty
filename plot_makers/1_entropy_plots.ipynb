{
 "cells": [
  {
   "cell_type": "code",
   "execution_count": null,
   "metadata": {},
   "outputs": [],
   "source": [
    "import matplotlib.pyplot as plt\n",
    "import numpy as np\n",
    "import pandas as pd"
   ]
  },
  {
   "cell_type": "code",
   "execution_count": null,
   "metadata": {},
   "outputs": [],
   "source": [
    "# Load Dataset for the plots:\n",
    "all_data = pd.read_csv('../model_results/analysed_data/entropies_per_question.csv')"
   ]
  },
  {
   "cell_type": "code",
   "execution_count": null,
   "metadata": {},
   "outputs": [],
   "source": [
    "question_types = [1, 2, 3, 4, 5]\n",
    "subsets_of_correctness = ['-1', 'True']\n",
    "model_names = ['Llama3-8b', 'Llama3-70b', 'Yi-34b', 'Mistral-7b']\n",
    "correlation_of_interest = 'spearman_entropy'\n",
    "correlation_of_interest_p_value = 'spearman_p_entropy'\n",
    "\n",
    "n_question_types = len(question_types)\n",
    "n_correctness = len(subsets_of_correctness)\n",
    "\n",
    "data = np.zeros((4, n_correctness, n_question_types))\n",
    "significances = np.zeros((4, n_correctness, n_question_types))\n",
    "for model_name in model_names:\n",
    "    for correctness in ['-1', 'True']:\n",
    "        for question_type in question_types:\n",
    "            subset = all_data[(all_data['model_name'] == model_name) & (all_data['model_correctness'] == correctness) & (all_data['question_subset'] == question_type)]\n",
    "            data[model_names.index(model_name), subsets_of_correctness.index(correctness), question_types.index(question_type)] = subset[correlation_of_interest]  # The subset should only contain 1 row.\n",
    "            significances[model_names.index(model_name), subsets_of_correctness.index(correctness), question_types.index(question_type)] = subset[correlation_of_interest_p_value] < 0.05"
   ]
  },
  {
   "cell_type": "markdown",
   "metadata": {},
   "source": [
    "# Generate Plot"
   ]
  },
  {
   "cell_type": "code",
   "execution_count": null,
   "metadata": {},
   "outputs": [],
   "source": [
    "# Set up the figure and subplots\n",
    "fig, axes = plt.subplots(nrows=2, ncols=2, figsize=(\n",
    "    10, 10), sharey=True, sharex=True)\n",
    "\n",
    "# Set the positions and width for the bars\n",
    "positions = np.arange(n_question_types)\n",
    "width = 0.35  # the width of the bars\n",
    "\n",
    "# Define colors for each bar\n",
    "colors = ['#61A958', '#3339AC']\n",
    "\n",
    "# Plot data\n",
    "for idx, ax in enumerate(axes.flatten()):\n",
    "    for bar_idx in range(n_correctness):\n",
    "        ax.bar(positions + bar_idx * width, data[idx, bar_idx], width,\n",
    "               label=f'{\"All\" if bar_idx == 0 else \"Only Correct\"}', color=colors[bar_idx])\n",
    "\n",
    "    # Set model name as title\n",
    "    ax.text(0.5, 0.93, model_names[idx], fontsize=20,\n",
    "            horizontalalignment='center',\n",
    "            transform=ax.transAxes)\n",
    "\n",
    "    # Set x-axis labels\n",
    "    ax.set_xticks(positions + width / 2)\n",
    "    ax.set_xticklabels([\"Type 1\", \"Type 2\", \"Type 3\",\n",
    "                       \"Type 4\", \"Type 5\"], fontsize=17)\n",
    "\n",
    "    for bar_idx in range(n_correctness):\n",
    "        for pos_idx, pos in enumerate(positions):\n",
    "            # If the significance is 1, add asterisks\n",
    "            if significances[idx, bar_idx, pos_idx] == 1:\n",
    "                # Adjust the height to be above the bar\n",
    "                height = data[idx, bar_idx, pos_idx] + 0.005\n",
    "                ax.text(pos + bar_idx * width, height, '*', ha='center',\n",
    "                        va='bottom', fontsize=16, color='black')\n",
    "\n",
    "# Set the y limit of all plots to 0.8\n",
    "for ax in axes.flatten():\n",
    "    ax.set_ylim(-0.2, 1)\n",
    "\n",
    "# Add a legend\n",
    "fig.legend(loc='upper center', labels=[\n",
    "           'All', 'Correct'], fontsize=17, bbox_to_anchor=(0.85, 0.05), ncol=2)\n",
    "\n",
    "# x-axis label\n",
    "fig.text(0.54, 0, 'Question Type', ha='center', fontsize=23)\n",
    "\n",
    "# Add a main y-axis label\n",
    "fig.text(0.02, 0.5, 'Spearman Correlation',\n",
    "         va='center', rotation='vertical', fontsize=23)\n",
    "\n",
    "# Main title\n",
    "fig.suptitle('Student-Model Correlation of Choices Entropy',\n",
    "             fontsize=25, x=0.54, y=0.95)\n",
    "\n",
    "# Adjust the layout to prevent overlapping\n",
    "plt.tight_layout(rect=[0.05, 0.05, 1, 0.96])\n",
    "\n",
    "# save the plot\n",
    "plt.savefig('plots/spear_entropy.png', dpi=200, bbox_inches='tight')\n",
    "# Show plot\n",
    "plt.show()"
   ]
  }
 ],
 "metadata": {
  "kernelspec": {
   "display_name": "play_llama",
   "language": "python",
   "name": "python3"
  },
  "language_info": {
   "codemirror_mode": {
    "name": "ipython",
    "version": 3
   },
   "file_extension": ".py",
   "mimetype": "text/x-python",
   "name": "python",
   "nbconvert_exporter": "python",
   "pygments_lexer": "ipython3",
   "version": "3.9.16"
  }
 },
 "nbformat": 4,
 "nbformat_minor": 2
}
