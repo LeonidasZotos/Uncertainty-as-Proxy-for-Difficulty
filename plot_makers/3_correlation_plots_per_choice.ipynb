{
 "cells": [
  {
   "cell_type": "code",
   "execution_count": null,
   "metadata": {},
   "outputs": [],
   "source": [
    "import matplotlib.pyplot as plt\n",
    "import numpy as np\n",
    "import pandas as pd"
   ]
  },
  {
   "cell_type": "code",
   "execution_count": null,
   "metadata": {},
   "outputs": [],
   "source": [
    "# Load Dataset for the plots:\n",
    "all_data = pd.read_csv('../model_results/analysed_data/correlations_per_choice.csv')"
   ]
  },
  {
   "cell_type": "code",
   "execution_count": null,
   "metadata": {},
   "outputs": [],
   "source": [
    "question_types = [1, 2, 3, 4, 5]\n",
    "choices = ['correct_answer', 'distractor1', 'distractor2']\n",
    "model_names = ['Llama3-8b', 'Llama3-70b', 'Yi-34b', 'Mistral-7b']\n",
    "\n",
    "n_question_types = len(question_types)\n",
    "n_choices = len(choices)"
   ]
  },
  {
   "cell_type": "markdown",
   "metadata": {},
   "source": [
    "## Define Plot-Making Function"
   ]
  },
  {
   "cell_type": "code",
   "execution_count": null,
   "metadata": {},
   "outputs": [],
   "source": [
    "def create_plot(data, significances, plot_title, y_axis_title, output_filename, lower_y_limit):\n",
    "    # Set up the figure and subplots\n",
    "    fig, axes = plt.subplots(nrows=2, ncols=2, figsize=(\n",
    "        10, 10), sharey=True, sharex=True)\n",
    "\n",
    "    # Set the positions and width for the bars\n",
    "    positions = np.arange(n_question_types)\n",
    "    width = 0.25  # the width of the bars\n",
    "\n",
    "    # Define colors for each bar\n",
    "    colors = ['#1c7c54', '#ba274a', '#b8b42d']\n",
    "\n",
    "    # Plot data\n",
    "    for idx, ax in enumerate(axes.flatten()):\n",
    "        for bar_idx in range(n_choices):\n",
    "            ax.bar(positions + bar_idx * width, data[idx, bar_idx], width,\n",
    "                   label=f'Question type {bar_idx}', color=colors[bar_idx])\n",
    "\n",
    "        # Set model name as title\n",
    "        ax.text(0.5, 0.93, model_names[idx], fontsize=20,\n",
    "                horizontalalignment='center',\n",
    "                transform=ax.transAxes)\n",
    "\n",
    "        # Set x-axis labels\n",
    "        ax.set_xticks(positions + width)\n",
    "        ax.set_xticklabels([\"Type 1\", \"Type 2\", \"Type 3\",\n",
    "                           \"Type 4\", \"Type 5\"], fontsize=17)\n",
    "\n",
    "    for idx, ax in enumerate(axes.flatten()):\n",
    "        for bar_idx in range(n_choices):\n",
    "            for pos_idx, pos in enumerate(positions):\n",
    "                # If the significance is 1, add asterisks\n",
    "                if significances[idx, bar_idx, pos_idx] == 1:\n",
    "                    # Adjust the height to be above the bar\n",
    "                    height = data[idx, bar_idx, pos_idx] + 0.005\n",
    "                    ax.text(pos + bar_idx * width, height, '*', ha='center',\n",
    "                            va='bottom', fontsize=16, color='black')\n",
    "\n",
    "    # set the y limit of all plots to 1\n",
    "    for ax in axes.flatten():\n",
    "        ax.set_ylim(lower_y_limit, 1)\n",
    "    # Add a legend\n",
    "    fig.legend(loc='upper center', labels=[\n",
    "        'Correct Answer', 'Distractor 1', 'Distractor 2'], fontsize=17, bbox_to_anchor=(0.52, -0.03), ncol=3)\n",
    "\n",
    "    # x axis label\n",
    "    fig.text(0.54, 0, 'Question Type', ha='center', fontsize=23)\n",
    "\n",
    "    # Add a main y-axis label\n",
    "    fig.text(0.02, 0.5, y_axis_title,\n",
    "             va='center', rotation='vertical', fontsize=23)\n",
    "\n",
    "    # main title: logit\n",
    "    fig.suptitle(plot_title,\n",
    "                 fontsize=25, x=0.54, y=0.95)\n",
    "    # Adjust the layout to prevent overlapping\n",
    "    plt.tight_layout(rect=[0.05, 0.05, 1, 0.96])\n",
    "    plt.savefig('plots/' + output_filename + '.png', dpi=200, bbox_inches='tight')\n",
    "    # Show plot\n",
    "    plt.show()"
   ]
  },
  {
   "cell_type": "markdown",
   "metadata": {},
   "source": [
    "## 1st Token Probability & All Questions"
   ]
  },
  {
   "cell_type": "code",
   "execution_count": null,
   "metadata": {},
   "outputs": [],
   "source": [
    "# Create dataframe of correlations\n",
    "correctness = '-1' # -1 for both, False for incorrect, True for correct\n",
    "correlation_of_interest = 'spearman_logit'\n",
    "correlation_of_interest_p_value = 'spearman_p_logit'\n",
    "\n",
    "data = np.zeros((4, n_choices, n_question_types))\n",
    "significances = np.zeros((4, n_choices, n_question_types))\n",
    "for model_name in model_names:\n",
    "    for choice in choices:\n",
    "        for question_type in question_types:\n",
    "            subset = all_data[(all_data['model_name'] == model_name) & (\n",
    "                all_data['choice'] == choice) & (all_data['question_subset'] == question_type) & (all_data['model_correctness'] == correctness)]\n",
    "            data[model_names.index(model_name), choices.index(choice), question_types.index(\n",
    "                question_type)] = subset[correlation_of_interest]  # The subset should only contain 1 row.\n",
    "            significances[model_names.index(model_name), choices.index(choice), question_types.index(\n",
    "                question_type)] = subset[correlation_of_interest_p_value] < 0.05\n",
    "            \n",
    "            \n",
    "create_plot(data, significances, '1st Token Probability (All MCQs)', 'Spearman Correlation', 'spear_1st_token_all', lower_y_limit=-0.25)"
   ]
  },
  {
   "cell_type": "markdown",
   "metadata": {},
   "source": [
    "## 1st Token Probability & Only Correct Questions"
   ]
  },
  {
   "cell_type": "code",
   "execution_count": null,
   "metadata": {},
   "outputs": [],
   "source": [
    "# Create dataframe of correlations\n",
    "correctness = 'True' # -1 for both, 0 for incorrect, 1 for correct\n",
    "correlation_of_interest = 'spearman_logit'\n",
    "correlation_of_interest_p_value = 'spearman_p_logit'\n",
    "\n",
    "\n",
    "data = np.zeros((4, n_choices, n_question_types))\n",
    "significances = np.zeros((4, n_choices, n_question_types))\n",
    "for model_name in model_names:\n",
    "    for choice in choices:\n",
    "        for question_type in question_types:\n",
    "            subset = all_data[(all_data['model_name'] == model_name) & (\n",
    "                all_data['choice'] == choice) & (all_data['question_subset'] == question_type) & (all_data['model_correctness'] == correctness)]\n",
    "            data[model_names.index(model_name), choices.index(choice), question_types.index(\n",
    "                question_type)] = subset[correlation_of_interest]  # The subset should only contain 1 row.\n",
    "            significances[model_names.index(model_name), choices.index(choice), question_types.index(\n",
    "                question_type)] = subset[correlation_of_interest_p_value] < 0.05\n",
    "            \n",
    "            \n",
    "create_plot(data, significances, '1st Token Probability (Correct MCQs)', 'Spearman Correlation', 'spear_1st_token_correct', lower_y_limit=-0.25)"
   ]
  },
  {
   "cell_type": "markdown",
   "metadata": {},
   "source": [
    "## Order Sensitivity & All Questions"
   ]
  },
  {
   "cell_type": "code",
   "execution_count": null,
   "metadata": {},
   "outputs": [],
   "source": [
    "# Create dataframe of correlations\n",
    "correctness = '-1' # -1 for both, 0 for incorrect, 1 for correct\n",
    "correlation_of_interest = 'spearman_order_prob'\n",
    "correlation_of_interest_p_value = 'spearman_p_order_prob'\n",
    "\n",
    "data = np.zeros((4, n_choices, n_question_types))\n",
    "significances = np.zeros((4, n_choices, n_question_types))\n",
    "for model_name in model_names:\n",
    "    for choice in choices:\n",
    "        for question_type in question_types:\n",
    "            subset = all_data[(all_data['model_name'] == model_name) & (\n",
    "                all_data['choice'] == choice) & (all_data['question_subset'] == question_type) & (all_data['model_correctness'] == correctness)]\n",
    "            data[model_names.index(model_name), choices.index(choice), question_types.index(\n",
    "                question_type)] = subset[correlation_of_interest]  # The subset should only contain 1 row.\n",
    "            significances[model_names.index(model_name), choices.index(choice), question_types.index(\n",
    "                question_type)] = subset[correlation_of_interest_p_value] < 0.05\n",
    "            \n",
    "            \n",
    "create_plot(data, significances, 'Choice Order Sensitivity (All MCQs)', 'Spearman Correlation', 'spear_order_all', lower_y_limit=-0.25)"
   ]
  },
  {
   "cell_type": "markdown",
   "metadata": {},
   "source": [
    "## Order Sensitivity & Only Correct Questions"
   ]
  },
  {
   "cell_type": "code",
   "execution_count": null,
   "metadata": {},
   "outputs": [],
   "source": [
    "# Create dataframe of correlations\n",
    "correctness = 'True' # -1 for both, 0 for incorrect, 1 for correct\n",
    "\n",
    "correlation_of_interest = 'spearman_order_prob'\n",
    "correlation_of_interest_p_value = 'spearman_p_order_prob'\n",
    "\n",
    "data = np.zeros((4, n_choices, n_question_types))\n",
    "significances = np.zeros((4, n_choices, n_question_types))\n",
    "for model_name in model_names:\n",
    "    for choice in choices:\n",
    "        for question_type in question_types:\n",
    "            subset = all_data[(all_data['model_name'] == model_name) & (\n",
    "                all_data['choice'] == choice) & (all_data['question_subset'] == question_type) & (all_data['model_correctness'] == correctness)]\n",
    "            data[model_names.index(model_name), choices.index(choice), question_types.index(\n",
    "                question_type)] = subset[correlation_of_interest]  # The subset should only contain 1 row.\n",
    "            significances[model_names.index(model_name), choices.index(choice), question_types.index(\n",
    "                question_type)] = subset[correlation_of_interest_p_value] < 0.05\n",
    "            \n",
    "            \n",
    "create_plot(data, significances, 'Choice Order Sensitivity (Correct MCQs)', 'Spearman Correlation', 'spear_order_correct', lower_y_limit=-0.4)"
   ]
  }
 ],
 "metadata": {
  "kernelspec": {
   "display_name": "play_llama",
   "language": "python",
   "name": "python3"
  },
  "language_info": {
   "codemirror_mode": {
    "name": "ipython",
    "version": 3
   },
   "file_extension": ".py",
   "mimetype": "text/x-python",
   "name": "python",
   "nbconvert_exporter": "python",
   "pygments_lexer": "ipython3",
   "version": "3.9.16"
  }
 },
 "nbformat": 4,
 "nbformat_minor": 2
}
