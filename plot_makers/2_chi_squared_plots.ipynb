{
 "cells": [
  {
   "cell_type": "code",
   "execution_count": null,
   "metadata": {},
   "outputs": [],
   "source": [
    "import matplotlib.pyplot as plt\n",
    "import numpy as np\n",
    "import pandas as pd"
   ]
  },
  {
   "cell_type": "code",
   "execution_count": null,
   "metadata": {},
   "outputs": [],
   "source": [
    "# Load Dataset for the plots:\n",
    "all_data = pd.read_csv('../model_results/analysed_data/chi_squared_per_question.csv')"
   ]
  },
  {
   "cell_type": "code",
   "execution_count": null,
   "metadata": {},
   "outputs": [],
   "source": [
    "question_types = [1, 2, 3, 4, 5]\n",
    "subsets_of_correctness = ['-1', 'True']\n",
    "model_names = ['Llama3-8b', 'Llama3-70b', 'Yi-34b', 'Mistral-7b']\n",
    "n_question_types = len(question_types)\n",
    "n_correctness = len(subsets_of_correctness)"
   ]
  },
  {
   "cell_type": "markdown",
   "metadata": {},
   "source": [
    "# Plotting Function"
   ]
  },
  {
   "cell_type": "code",
   "execution_count": null,
   "metadata": {},
   "outputs": [],
   "source": [
    "def create_plot(data, plot_title, output_filename):\n",
    "    # Set up the figure and subplots\n",
    "    fig, axes = plt.subplots(nrows=2, ncols=2, figsize=(\n",
    "        10, 10), sharey=True, sharex=True)\n",
    "\n",
    "    # Set the positions and width for the bars\n",
    "    positions = np.arange(n_question_types)\n",
    "    width = 0.35  # the width of the bars\n",
    "\n",
    "    # Define colors for each bar\n",
    "    colors = ['#61A958', '#3339AC']\n",
    "\n",
    "    # Plot data\n",
    "    for idx, ax in enumerate(axes.flatten()):\n",
    "        for bar_idx in range(n_correctness):\n",
    "            ax.bar(positions + bar_idx * width, data[idx, bar_idx], width,\n",
    "                label=f'{\"All\" if bar_idx == 0 else \"Only Correct\"}', color=colors[bar_idx])\n",
    "\n",
    "        # Set model name as title\n",
    "        ax.text(0.5, 0.93, model_names[idx], fontsize=20,\n",
    "                horizontalalignment='center',\n",
    "                transform=ax.transAxes)\n",
    "\n",
    "        # Set x-axis labels\n",
    "        ax.set_xticks(positions + width / 2)\n",
    "        ax.set_xticklabels([\"Type 1\", \"Type 2\", \"Type 3\", \"Type 4\", \"Type 5\"], fontsize=17)\n",
    "\n",
    "    for ax in axes.flatten():\n",
    "        ax.set_ylim(0, 1200)\n",
    "\n",
    "    # Add a legend\n",
    "    fig.legend(loc='upper center', labels=[\n",
    "            'All', 'Correct'], fontsize=17, bbox_to_anchor=(0.85, 0.05), ncol=2)\n",
    "\n",
    "    # x-axis label\n",
    "    fig.text(0.54, 0, 'Question Type', ha='center', fontsize=23)\n",
    "\n",
    "    # Add a main y-axis label\n",
    "    fig.text(0.02, 0.5, 'Chi-Squared Value (lower is better)',\n",
    "            va='center', rotation='vertical', fontsize=23)\n",
    "\n",
    "    # Main title\n",
    "    fig.suptitle(plot_title, fontsize=25, x=0.54, y=0.95)\n",
    "\n",
    "    # Adjust the layout to prevent overlapping\n",
    "    plt.tight_layout(rect=[0.05, 0.05, 1, 0.96])\n",
    "\n",
    "    plt.savefig('plots/'+output_filename+'.png', dpi=200, bbox_inches='tight')\n",
    "    # Show plot\n",
    "    plt.show()"
   ]
  },
  {
   "cell_type": "markdown",
   "metadata": {},
   "source": [
    "# Chi-Squared: Logit"
   ]
  },
  {
   "cell_type": "code",
   "execution_count": null,
   "metadata": {},
   "outputs": [],
   "source": [
    "chi_squared_of_interest = 'logit_chi' # logit == 1st token\n",
    "\n",
    "data = np.zeros((4, n_correctness, n_question_types))\n",
    "for model_name in model_names:\n",
    "    for correctness in ['-1', 'True']:\n",
    "        for question_type in question_types:\n",
    "            subset = all_data[(all_data['model_name'] == model_name) & (all_data['model_correctness'] == correctness) & (all_data['question_subset'] == question_type)]\n",
    "            data[model_names.index(model_name), subsets_of_correctness.index(correctness), question_types.index(question_type)] = subset[chi_squared_of_interest]  # The subset should only contain 1 row.\n",
    "\n",
    "create_plot(data, '1st Token Probability', 'chi_1st_token')"
   ]
  },
  {
   "cell_type": "code",
   "execution_count": null,
   "metadata": {},
   "outputs": [],
   "source": [
    "chi_squared_of_interest = 'order_chi' # logit == 1st token\n",
    "\n",
    "data = np.zeros((4, n_correctness, n_question_types))\n",
    "for model_name in model_names:\n",
    "    for correctness in ['-1', 'True']:\n",
    "        for question_type in question_types:\n",
    "            subset = all_data[(all_data['model_name'] == model_name) & (all_data['model_correctness'] == correctness) & (all_data['question_subset'] == question_type)]\n",
    "            data[model_names.index(model_name), subsets_of_correctness.index(correctness), question_types.index(question_type)] = subset[chi_squared_of_interest]  # The subset should only contain 1 row.\n",
    "\n",
    "create_plot(data, 'Choice Order Sensitivity', 'chi_order')"
   ]
  }
 ],
 "metadata": {
  "kernelspec": {
   "display_name": "play_llama",
   "language": "python",
   "name": "python3"
  },
  "language_info": {
   "codemirror_mode": {
    "name": "ipython",
    "version": 3
   },
   "file_extension": ".py",
   "mimetype": "text/x-python",
   "name": "python",
   "nbconvert_exporter": "python",
   "pygments_lexer": "ipython3",
   "version": "3.9.16"
  }
 },
 "nbformat": 4,
 "nbformat_minor": 2
}
