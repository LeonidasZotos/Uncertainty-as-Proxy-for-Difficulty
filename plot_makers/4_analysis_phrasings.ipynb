{
 "cells": [
  {
   "cell_type": "code",
   "execution_count": null,
   "metadata": {},
   "outputs": [],
   "source": [
    "import pandas as pd\n",
    "import numpy as np\n",
    "from scipy import stats\n",
    "import matplotlib.pyplot as plt\n"
   ]
  },
  {
   "cell_type": "code",
   "execution_count": null,
   "metadata": {},
   "outputs": [],
   "source": [
    "filename1a = '../model_results/2_distractors_QCassistant_Llama3-8b.csv'\n",
    "filename1b = '../model_results/PromptTwo/2_distractors_QCPTWOassistant_Llama3-8b.csv'\n",
    "\n",
    "filename2a = '../model_results/2_distractors_QCassistant_Llama3-70b.csv'\n",
    "filename2b = '../model_results/PromptTwo/2_distractors_QCPTWOassistant_Llama3-70b.csv'\n",
    "\n",
    "filename3a = '../model_results/2_distractors_QCassistant_Yi-34b.csv'\n",
    "filename3b = '../model_results/PromptTwo/2_distractors_QCPTWOassistant_Yi-34b.csv'\n",
    "\n",
    "filename4a = '../model_results/2_distractors_QCassistant_Mistral-7b.csv'\n",
    "filename4b = '../model_results/PromptTwo/2_distractors_QCPTWOassistant_Mistral-7b.csv'\n",
    "\n",
    "df1a = pd.read_csv(filename1a)\n",
    "df1b = pd.read_csv(filename1b)\n",
    "\n",
    "df2a = pd.read_csv(filename2a)\n",
    "df2b = pd.read_csv(filename2b)\n",
    "\n",
    "df3a = pd.read_csv(filename3a)\n",
    "df3b = pd.read_csv(filename3b)\n",
    "\n",
    "df4a = pd.read_csv(filename4a)\n",
    "df4b = pd.read_csv(filename4b)\n",
    "\n",
    "model_logit_rates = 'correct_answer_model_rate'\n",
    "model_order_prob_rates = 'correct_answer_order_probability'"
   ]
  },
  {
   "cell_type": "code",
   "execution_count": null,
   "metadata": {},
   "outputs": [],
   "source": [
    "# Colors for the boxplots\n",
    "color1 = '#f2ff49'\n",
    "color2 = '#ad343e'\n",
    "\n",
    "fig, axs = plt.subplots(2, 4, figsize=(20, 10))\n",
    "fig.suptitle('Comparison of Instruction Phrasing 1 and 2 effects on Model Uncertainty', fontsize=27)\n",
    "\n",
    "# Function to create colored boxplots\n",
    "def create_boxplot(ax, data1, data2, title):\n",
    "    bp = ax.boxplot([data1, data2], patch_artist=True)\n",
    "    colors = [color1, color2]\n",
    "    for patch, color in zip(bp['boxes'], colors):\n",
    "        patch.set_facecolor(color)\n",
    "    ax.set_title(title, fontsize=19)\n",
    "    ax.set_xticklabels(['Phrasing 1', 'Phrasing 2'], fontsize=15)\n",
    "\n",
    "# Plot the logit rates\n",
    "create_boxplot(axs[0, 0], df1a[model_logit_rates], df1b[model_logit_rates], 'Llama3-8b')\n",
    "create_boxplot(axs[0, 1], df2a[model_logit_rates], df2b[model_logit_rates], 'Llama3-70b')\n",
    "create_boxplot(axs[0, 2], df3a[model_logit_rates], df3b[model_logit_rates], 'Yi-34b')\n",
    "create_boxplot(axs[0, 3], df4a[model_logit_rates], df4b[model_logit_rates], 'Mistral-7b')\n",
    "\n",
    "# Plot the order probability rates\n",
    "create_boxplot(axs[1, 0], df1a[model_order_prob_rates], df1b[model_order_prob_rates], 'Llama3-8b')\n",
    "create_boxplot(axs[1, 1], df2a[model_order_prob_rates], df2b[model_order_prob_rates], 'Llama3-70b')\n",
    "create_boxplot(axs[1, 2], df3a[model_order_prob_rates], df3b[model_order_prob_rates], 'Yi-34b')\n",
    "create_boxplot(axs[1, 3], df4a[model_order_prob_rates], df4b[model_order_prob_rates], 'Mistral-7b')\n",
    "\n",
    "# Main x and y labels\n",
    "fig.text(0.5, 0.04, 'Phrasing', ha='center', fontsize=19)\n",
    "fig.text(0.05, 0.5, 'Model Uncertainty Metric', va='center', rotation='vertical', fontsize=19)\n",
    "\n",
    "# Individual y labels\n",
    "fig.text(0.09, 0.7, '1st Token Probability', va='center', rotation='vertical', fontsize=15)\n",
    "fig.text(0.09, 0.29, 'Choice Order Probability', va='center', rotation='vertical', fontsize=15)\n",
    "\n",
    "plt.show()\n",
    "\n",
    "# save figure in plots folder\n",
    "fig.savefig('plots/phrasing_comparison.png', bbox_inches='tight', dpi=200)"
   ]
  }
 ],
 "metadata": {
  "kernelspec": {
   "display_name": "play_llama",
   "language": "python",
   "name": "python3"
  },
  "language_info": {
   "codemirror_mode": {
    "name": "ipython",
    "version": 3
   },
   "file_extension": ".py",
   "mimetype": "text/x-python",
   "name": "python",
   "nbconvert_exporter": "python",
   "pygments_lexer": "ipython3",
   "version": "3.9.16"
  }
 },
 "nbformat": 4,
 "nbformat_minor": 2
}
